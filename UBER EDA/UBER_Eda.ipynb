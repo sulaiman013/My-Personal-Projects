{
 "cells": [
  {
   "cell_type": "code",
   "execution_count": null,
   "id": "18536286",
   "metadata": {},
   "outputs": [],
   "source": [
    "'''\n",
    "1 ) \"uber-raw-data-janjune-15.csv\" ->> this data contains all the entries/pickups from 'January' to 'June'\n",
    "    Quite huge dataset having approx 15M data pts , so lets consider its sample which have approx 1M\n",
    "\n",
    "\n",
    "2 ) \"uber-raw-data-janjune-15_sample.csv\" ->> this data is a sample of \"uber-raw-data-janjune-15.csv\"\n",
    "    'Since above data is quite huge ~15 Million data pts , hence it is good to work with some sample \n",
    "     if u do not have good specifications in your systems\n",
    "    \n",
    "'''"
   ]
  },
  {
   "cell_type": "code",
   "execution_count": null,
   "id": "15920815",
   "metadata": {},
   "outputs": [],
   "source": []
  },
  {
   "cell_type": "markdown",
   "id": "91883cd1",
   "metadata": {},
   "source": [
    "# 1.. Lets Read data for Analysis"
   ]
  },
  {
   "cell_type": "code",
   "execution_count": 3,
   "id": "fa9131dd",
   "metadata": {},
   "outputs": [],
   "source": [
    "### lets import all the necessary packages !\n",
    "\n",
    "import pandas as pd\n",
    "import numpy as np\n",
    "import seaborn as sns\n",
    "import matplotlib.pyplot as plt"
   ]
  },
  {
   "cell_type": "code",
   "execution_count": 4,
   "id": "7f526475",
   "metadata": {},
   "outputs": [],
   "source": [
    "import os"
   ]
  },
  {
   "cell_type": "code",
   "execution_count": null,
   "id": "2645cf5f",
   "metadata": {},
   "outputs": [],
   "source": [
    "os.listdir(r\"Datasets/\")"
   ]
  },
  {
   "cell_type": "code",
   "execution_count": null,
   "id": "47528f30",
   "metadata": {},
   "outputs": [],
   "source": [
    "uber_15 = pd.read_csv(r\"Datasets/uber-raw-data-janjune-15_sample.csv\")"
   ]
  },
  {
   "cell_type": "code",
   "execution_count": null,
   "id": "7794fb31",
   "metadata": {},
   "outputs": [],
   "source": [
    "uber_15.shape"
   ]
  },
  {
   "cell_type": "code",
   "execution_count": null,
   "id": "3a707e7e",
   "metadata": {},
   "outputs": [],
   "source": []
  },
  {
   "cell_type": "markdown",
   "id": "d147197a",
   "metadata": {},
   "source": [
    "## 2.. Lets Perform Data pre-processing/Data cleaning !\n",
    "        check data-type , check missing values , check whether duplicated values or not !\n",
    "        ie Prepare Data for Analysis !"
   ]
  },
  {
   "cell_type": "code",
   "execution_count": null,
   "id": "14fec27f",
   "metadata": {},
   "outputs": [],
   "source": [
    "type(uber_15)"
   ]
  },
  {
   "cell_type": "code",
   "execution_count": null,
   "id": "b399be99",
   "metadata": {},
   "outputs": [],
   "source": [
    "uber_15.duplicated().sum()"
   ]
  },
  {
   "cell_type": "code",
   "execution_count": null,
   "id": "8f1deebd",
   "metadata": {},
   "outputs": [],
   "source": [
    "uber_15.drop_duplicates(inplace=True)"
   ]
  },
  {
   "cell_type": "code",
   "execution_count": null,
   "id": "d7fd9715",
   "metadata": {},
   "outputs": [],
   "source": [
    "uber_15.duplicated().sum()"
   ]
  },
  {
   "cell_type": "code",
   "execution_count": null,
   "id": "4866f337",
   "metadata": {},
   "outputs": [],
   "source": [
    "uber_15.shape"
   ]
  },
  {
   "cell_type": "code",
   "execution_count": null,
   "id": "b13da063",
   "metadata": {},
   "outputs": [],
   "source": [
    "uber_15.dtypes"
   ]
  },
  {
   "cell_type": "code",
   "execution_count": null,
   "id": "c440fbfa",
   "metadata": {},
   "outputs": [],
   "source": [
    "uber_15.isnull().sum()"
   ]
  },
  {
   "cell_type": "code",
   "execution_count": null,
   "id": "9bcb43eb",
   "metadata": {},
   "outputs": [],
   "source": [
    "uber_15['Pickup_date'][0]"
   ]
  },
  {
   "cell_type": "code",
   "execution_count": null,
   "id": "053ef9db",
   "metadata": {},
   "outputs": [],
   "source": [
    "type(uber_15['Pickup_date'][0])"
   ]
  },
  {
   "cell_type": "code",
   "execution_count": null,
   "id": "97abb2bc",
   "metadata": {},
   "outputs": [],
   "source": [
    "uber_15['Pickup_date'] = pd.to_datetime(uber_15['Pickup_date'])"
   ]
  },
  {
   "cell_type": "code",
   "execution_count": null,
   "id": "95e71b33",
   "metadata": {},
   "outputs": [],
   "source": [
    "uber_15['Pickup_date'].dtype"
   ]
  },
  {
   "cell_type": "code",
   "execution_count": null,
   "id": "6111d457",
   "metadata": {},
   "outputs": [],
   "source": [
    "uber_15['Pickup_date'][0]"
   ]
  },
  {
   "cell_type": "code",
   "execution_count": null,
   "id": "2f94f04a",
   "metadata": {},
   "outputs": [],
   "source": [
    "type(uber_15['Pickup_date'][0])"
   ]
  },
  {
   "cell_type": "code",
   "execution_count": null,
   "id": "a849d562",
   "metadata": {},
   "outputs": [],
   "source": [
    "uber_15.dtypes"
   ]
  },
  {
   "cell_type": "code",
   "execution_count": null,
   "id": "29152bf8",
   "metadata": {},
   "outputs": [],
   "source": []
  },
  {
   "cell_type": "markdown",
   "id": "5a1fc88d",
   "metadata": {},
   "source": [
    "# 3.. Which month have max. Uber pickups in New York City ?"
   ]
  },
  {
   "cell_type": "code",
   "execution_count": null,
   "id": "f9cbbe36",
   "metadata": {},
   "outputs": [],
   "source": [
    "uber_15"
   ]
  },
  {
   "cell_type": "code",
   "execution_count": null,
   "id": "e629587e",
   "metadata": {},
   "outputs": [],
   "source": [
    "uber_15['month'] = uber_15['Pickup_date'].dt.month_name()"
   ]
  },
  {
   "cell_type": "code",
   "execution_count": null,
   "id": "cb42e7de",
   "metadata": {},
   "outputs": [],
   "source": [
    "uber_15['month']"
   ]
  },
  {
   "cell_type": "code",
   "execution_count": null,
   "id": "467a6053",
   "metadata": {},
   "outputs": [],
   "source": [
    "uber_15['month'].value_counts().plot(kind='bar')"
   ]
  },
  {
   "cell_type": "code",
   "execution_count": null,
   "id": "8c470df4",
   "metadata": {},
   "outputs": [],
   "source": [
    "'''\n",
    "Inference : June seems to have max Uber Pickups \n",
    "'''"
   ]
  },
  {
   "cell_type": "code",
   "execution_count": null,
   "id": "0625b734",
   "metadata": {},
   "outputs": [],
   "source": []
  },
  {
   "cell_type": "code",
   "execution_count": null,
   "id": "3ad6c5a2",
   "metadata": {},
   "outputs": [],
   "source": [
    "## extracting dervied features (weekday ,day ,hour ,month ,minute) from 'Pickup_date'..\n",
    "\n",
    "uber_15['weekday'] = uber_15['Pickup_date'].dt.day_name()\n",
    "uber_15['day'] = uber_15['Pickup_date'].dt.day\n",
    "uber_15['hour'] = uber_15['Pickup_date'].dt.hour\n",
    "uber_15['minute'] = uber_15['Pickup_date'].dt.minute"
   ]
  },
  {
   "cell_type": "code",
   "execution_count": null,
   "id": "e8d92dfa",
   "metadata": {},
   "outputs": [],
   "source": [
    "uber_15.head(4)"
   ]
  },
  {
   "cell_type": "code",
   "execution_count": null,
   "id": "543a8a31",
   "metadata": {},
   "outputs": [],
   "source": []
  },
  {
   "cell_type": "code",
   "execution_count": null,
   "id": "edd1d68c",
   "metadata": {},
   "outputs": [],
   "source": [
    "## pd.crosstab() is used to create pivot table ..\n",
    "\n",
    "pivot = pd.crosstab(index=uber_15['month'] , columns=uber_15['weekday'])"
   ]
  },
  {
   "cell_type": "code",
   "execution_count": null,
   "id": "e1bc765e",
   "metadata": {},
   "outputs": [],
   "source": [
    "pivot"
   ]
  },
  {
   "cell_type": "code",
   "execution_count": null,
   "id": "449e2da4",
   "metadata": {},
   "outputs": [],
   "source": []
  },
  {
   "cell_type": "code",
   "execution_count": null,
   "id": "2b6ed69c",
   "metadata": {},
   "outputs": [],
   "source": [
    "## grouped-bar plot using Pandas ..\n",
    "pivot.plot(kind='bar' , figsize=(8,6))"
   ]
  },
  {
   "cell_type": "code",
   "execution_count": null,
   "id": "e37f2454",
   "metadata": {},
   "outputs": [],
   "source": [
    "'''\n",
    "\n",
    "On Saturday & Friday, u are getting more Uber pickups in each month , it seems that New Yorkers used to go for \n",
    "shopping , Malls , fun activities alot on these days\n",
    "\n",
    "'''"
   ]
  },
  {
   "cell_type": "code",
   "execution_count": null,
   "id": "a6cf80ac",
   "metadata": {},
   "outputs": [],
   "source": []
  },
  {
   "cell_type": "markdown",
   "id": "91311ac8",
   "metadata": {},
   "source": [
    "# 4.. Lets Find out Hourly Rush in New york city on all days"
   ]
  },
  {
   "cell_type": "code",
   "execution_count": null,
   "id": "742f3cef",
   "metadata": {},
   "outputs": [],
   "source": [
    "summary = uber_15.groupby(['weekday' , 'hour'] , as_index=False).size()"
   ]
  },
  {
   "cell_type": "code",
   "execution_count": null,
   "id": "493094d5",
   "metadata": {},
   "outputs": [],
   "source": [
    "summary"
   ]
  },
  {
   "cell_type": "code",
   "execution_count": null,
   "id": "1f88619b",
   "metadata": {},
   "outputs": [],
   "source": []
  },
  {
   "cell_type": "code",
   "execution_count": null,
   "id": "bf9ebf5e",
   "metadata": {},
   "outputs": [],
   "source": [
    "## pointplot between 'hour' & 'size' for all the weekdays..\n",
    "\n",
    "plt.figure(figsize=(8,6))\n",
    "sns.pointplot(x=\"hour\" , y=\"size\" , hue=\"weekday\" , data=summary)"
   ]
  },
  {
   "cell_type": "code",
   "execution_count": null,
   "id": "de698f89",
   "metadata": {},
   "outputs": [],
   "source": [
    "'''\n",
    "It's interesting to see that Saturday and Sunday exhibit similar demand throughout the late night/morning/afternoon, \n",
    "but it exhibits opposite trends during the evening. In the evening, Saturday pickups continue to increase throughout the evening,\n",
    "but Sunday pickups takes a downward turn after evening..\n",
    "\n",
    "We can see that there the weekdays that has the most demand during the late evening is Friday and Saturday, \n",
    "which is expected, but what strikes me is that Thursday nights also exhibits very similar trends as Friday and Saturday nights.\n",
    "\n",
    "It seems like New Yorkers are starting their 'weekends' on Thursday nights. :)\n",
    "\n",
    "\n",
    "'''"
   ]
  },
  {
   "cell_type": "code",
   "execution_count": null,
   "id": "83b6fdb6",
   "metadata": {},
   "outputs": [],
   "source": []
  },
  {
   "cell_type": "markdown",
   "id": "690836b9",
   "metadata": {},
   "source": [
    "# 5.. Which Base_number has most number of Active Vehicles ??"
   ]
  },
  {
   "cell_type": "code",
   "execution_count": null,
   "id": "f0eec599",
   "metadata": {},
   "outputs": [],
   "source": [
    "uber_15.columns"
   ]
  },
  {
   "cell_type": "code",
   "execution_count": null,
   "id": "8498c467",
   "metadata": {},
   "outputs": [],
   "source": []
  },
  {
   "cell_type": "code",
   "execution_count": null,
   "id": "bddca011",
   "metadata": {},
   "outputs": [],
   "source": [
    "os.listdir(r\"Datasets/\")"
   ]
  },
  {
   "cell_type": "code",
   "execution_count": null,
   "id": "f2e1dfe9",
   "metadata": {},
   "outputs": [],
   "source": [
    "uber_foil = pd.read_csv(r\"Datasets/Uber-Jan-Feb-FOIL.csv\")"
   ]
  },
  {
   "cell_type": "code",
   "execution_count": null,
   "id": "695e80ea",
   "metadata": {},
   "outputs": [],
   "source": [
    "uber_foil.shape"
   ]
  },
  {
   "cell_type": "code",
   "execution_count": null,
   "id": "1583df2b",
   "metadata": {},
   "outputs": [],
   "source": [
    "uber_foil.head(3)"
   ]
  },
  {
   "cell_type": "code",
   "execution_count": null,
   "id": "d01ac047",
   "metadata": {},
   "outputs": [],
   "source": []
  },
  {
   "cell_type": "code",
   "execution_count": null,
   "id": "367fc571",
   "metadata": {},
   "outputs": [],
   "source": [
    "### establishing the entire set-up of Plotly.."
   ]
  },
  {
   "cell_type": "code",
   "execution_count": null,
   "id": "40c6f1ac",
   "metadata": {},
   "outputs": [],
   "source": [
    "# pip install chart-studio ## chart_studio provides a web-service for hosting graphs!\n",
    "# pip install plotly\n",
    "# pip install --upgrade nbformat\n",
    "# "
   ]
  },
  {
   "cell_type": "code",
   "execution_count": null,
   "id": "c17c35f9",
   "metadata": {},
   "outputs": [],
   "source": [
    "import chart_studio.plotly as py\n",
    "import plotly.graph_objs as go\n",
    "import plotly.express as px\n",
    "\n",
    "from plotly.offline import download_plotlyjs , init_notebook_mode , plot , iplot \n",
    "## iplot() when working in a Jupyter Notebook to display the plot in the notebook.\n",
    "## U have to do a proper setup of plotly , otherwise plotly plots gets open in a web-browser instead of Jupyter notebook\n"
   ]
  },
  {
   "cell_type": "code",
   "execution_count": null,
   "id": "2935940c",
   "metadata": {},
   "outputs": [],
   "source": [
    "init_notebook_mode(connected=True)"
   ]
  },
  {
   "cell_type": "code",
   "execution_count": null,
   "id": "30b3e96f",
   "metadata": {},
   "outputs": [],
   "source": [
    "uber_foil.columns"
   ]
  },
  {
   "cell_type": "code",
   "execution_count": null,
   "id": "1830be42",
   "metadata": {},
   "outputs": [],
   "source": [
    "px.box(x='dispatching_base_number' , y='active_vehicles' , data_frame=uber_foil)"
   ]
  },
  {
   "cell_type": "code",
   "execution_count": null,
   "id": "86e2a400",
   "metadata": {},
   "outputs": [],
   "source": []
  },
  {
   "cell_type": "code",
   "execution_count": null,
   "id": "7dde084c",
   "metadata": {},
   "outputs": [],
   "source": [
    "### if u need distribution +  5-summary stats of data , its good to go with violinplot\n",
    "px.violin(x='dispatching_base_number' , y='active_vehicles' , data_frame=uber_foil)"
   ]
  },
  {
   "cell_type": "code",
   "execution_count": null,
   "id": "3ee9927e",
   "metadata": {},
   "outputs": [],
   "source": []
  },
  {
   "cell_type": "markdown",
   "id": "93480bac",
   "metadata": {},
   "source": [
    "# 6.. Collect entire data & Make it ready for the Data Analysis.."
   ]
  },
  {
   "cell_type": "code",
   "execution_count": 5,
   "id": "edf3012d",
   "metadata": {},
   "outputs": [],
   "source": [
    "files = os.listdir(r\"Datasets/\")[-8:]"
   ]
  },
  {
   "cell_type": "code",
   "execution_count": null,
   "id": "e94a23d6",
   "metadata": {},
   "outputs": [],
   "source": [
    "files.remove('uber-raw-data-janjune-15.csv')"
   ]
  },
  {
   "cell_type": "code",
   "execution_count": null,
   "id": "b89f0bc4",
   "metadata": {},
   "outputs": [],
   "source": [
    "files"
   ]
  },
  {
   "cell_type": "code",
   "execution_count": null,
   "id": "2d023a49",
   "metadata": {},
   "outputs": [],
   "source": [
    "files.remove('uber-raw-data-janjune-15_sample.csv')"
   ]
  },
  {
   "cell_type": "code",
   "execution_count": 6,
   "id": "e955007a",
   "metadata": {},
   "outputs": [
    {
     "data": {
      "text/plain": [
       "['uber-raw-data-apr14.csv',\n",
       " 'uber-raw-data-aug14.csv',\n",
       " 'uber-raw-data-janjune-15.csv',\n",
       " 'uber-raw-data-janjune-15_sample.csv',\n",
       " 'uber-raw-data-jul14.csv',\n",
       " 'uber-raw-data-jun14.csv',\n",
       " 'uber-raw-data-may14.csv',\n",
       " 'uber-raw-data-sep14.csv']"
      ]
     },
     "execution_count": 6,
     "metadata": {},
     "output_type": "execute_result"
    }
   ],
   "source": [
    "files"
   ]
  },
  {
   "cell_type": "code",
   "execution_count": null,
   "id": "9fcdb7c8",
   "metadata": {},
   "outputs": [],
   "source": []
  },
  {
   "cell_type": "code",
   "execution_count": 1,
   "id": "27a1c2ae",
   "metadata": {},
   "outputs": [
    {
     "ename": "NameError",
     "evalue": "name 'pd' is not defined",
     "output_type": "error",
     "traceback": [
      "\u001b[1;31m---------------------------------------------------------------------------\u001b[0m",
      "\u001b[1;31mNameError\u001b[0m                                 Traceback (most recent call last)",
      "Cell \u001b[1;32mIn[1], line 2\u001b[0m\n\u001b[0;32m      1\u001b[0m \u001b[38;5;66;03m#blank dataframe\u001b[39;00m\n\u001b[1;32m----> 2\u001b[0m final \u001b[38;5;241m=\u001b[39m \u001b[43mpd\u001b[49m\u001b[38;5;241m.\u001b[39mDataFrame()\n\u001b[0;32m      4\u001b[0m path \u001b[38;5;241m=\u001b[39m \u001b[38;5;124mr\u001b[39m\u001b[38;5;124m\"\u001b[39m\u001b[38;5;124mDatasets/\u001b[39m\u001b[38;5;124m\"\u001b[39m\n\u001b[0;32m      6\u001b[0m \u001b[38;5;28;01mfor\u001b[39;00m file \u001b[38;5;129;01min\u001b[39;00m files :\n",
      "\u001b[1;31mNameError\u001b[0m: name 'pd' is not defined"
     ]
    }
   ],
   "source": [
    "#blank dataframe\n",
    "final = pd.DataFrame()\n",
    "\n",
    "path = r\"Datasets/\"\n",
    "\n",
    "for file in files :\n",
    "    current_df = pd.read_csv(path+'/'+file)\n",
    "    final = pd.concat([current_df , final])"
   ]
  },
  {
   "cell_type": "code",
   "execution_count": null,
   "id": "dd650be4",
   "metadata": {},
   "outputs": [],
   "source": [
    "final.shape"
   ]
  },
  {
   "cell_type": "code",
   "execution_count": null,
   "id": "8021360c",
   "metadata": {},
   "outputs": [],
   "source": [
    "### After Collecting entire data ,u might ask is : Do we have duplicate entires in data ?\n",
    "### We are going to remove duplicates data when the entire row is duplicated"
   ]
  },
  {
   "cell_type": "code",
   "execution_count": null,
   "id": "c09689c7",
   "metadata": {},
   "outputs": [],
   "source": [
    "### first lets figure out total observations where we have duplicate values..\n",
    "final.duplicated().sum()"
   ]
  },
  {
   "cell_type": "code",
   "execution_count": null,
   "id": "3b1a562f",
   "metadata": {},
   "outputs": [],
   "source": [
    "## drop duplicate rows ..\n",
    "final.drop_duplicates(inplace=True)"
   ]
  },
  {
   "cell_type": "code",
   "execution_count": null,
   "id": "3f880ded",
   "metadata": {},
   "outputs": [],
   "source": [
    "final.shape"
   ]
  },
  {
   "cell_type": "code",
   "execution_count": null,
   "id": "bf3052ec",
   "metadata": {},
   "outputs": [],
   "source": [
    "final.head(3)"
   ]
  },
  {
   "cell_type": "markdown",
   "id": "bf3c1a48",
   "metadata": {},
   "source": [
    "## Dataset Information : "
   ]
  },
  {
   "cell_type": "markdown",
   "id": "376bcbbf",
   "metadata": {},
   "source": [
    "### The dataset contains information about the Datetime, Latitude, Longitude and Base of each uber ride that happened in the month of July 2014 at New York City, USA\n",
    "\n",
    "##### Date/Time : The date and time of the Uber pickup\n",
    "\n",
    "##### Lat : The latitude of the Uber pickup\n",
    "\n",
    "##### Lon : The longitude of the Uber pickup\n",
    "\n",
    "##### Base : The TLC base company code affiliated with the Uber pickup\n",
    "\n",
    "    The Base codes are for the following Uber bases:\n",
    "    B02512 : Unter\n",
    "    B02598 : Hinter\n",
    "    B02617 : Weiter\n",
    "    B02682 : Schmecken\n",
    "    B02764 : Danach-NY\n"
   ]
  },
  {
   "cell_type": "code",
   "execution_count": null,
   "id": "00289cdd",
   "metadata": {},
   "outputs": [],
   "source": []
  },
  {
   "cell_type": "markdown",
   "id": "9bff93c5",
   "metadata": {},
   "source": [
    "# 7.. at what locations of New York City we are getting rush ??"
   ]
  },
  {
   "cell_type": "code",
   "execution_count": null,
   "id": "8bcdc3c2",
   "metadata": {},
   "outputs": [],
   "source": [
    "### ie where-ever we have more data-points or more density, it means more rush is at there !"
   ]
  },
  {
   "cell_type": "code",
   "execution_count": null,
   "id": "3479be72",
   "metadata": {},
   "outputs": [],
   "source": [
    "rush_uber = final.groupby(['Lat' , 'Lon'] , as_index=False).size()"
   ]
  },
  {
   "cell_type": "code",
   "execution_count": null,
   "id": "c980f9cd",
   "metadata": {},
   "outputs": [],
   "source": [
    "rush_uber.head(6)"
   ]
  },
  {
   "cell_type": "code",
   "execution_count": null,
   "id": "d39bdec4",
   "metadata": {},
   "outputs": [],
   "source": [
    "#pip install folium"
   ]
  },
  {
   "cell_type": "code",
   "execution_count": null,
   "id": "25887093",
   "metadata": {},
   "outputs": [],
   "source": [
    "import folium"
   ]
  },
  {
   "cell_type": "code",
   "execution_count": null,
   "id": "9ac26cd7",
   "metadata": {},
   "outputs": [],
   "source": [
    "basemap = folium.Map()"
   ]
  },
  {
   "cell_type": "code",
   "execution_count": null,
   "id": "3979bf38",
   "metadata": {},
   "outputs": [],
   "source": [
    "basemap"
   ]
  },
  {
   "cell_type": "code",
   "execution_count": null,
   "id": "d98bbfd5",
   "metadata": {},
   "outputs": [],
   "source": []
  },
  {
   "cell_type": "code",
   "execution_count": null,
   "id": "6c6851fa",
   "metadata": {},
   "outputs": [],
   "source": [
    "from folium.plugins import HeatMap"
   ]
  },
  {
   "cell_type": "code",
   "execution_count": null,
   "id": "5f47b29f",
   "metadata": {},
   "outputs": [],
   "source": [
    "HeatMap(rush_uber).add_to(basemap)"
   ]
  },
  {
   "cell_type": "code",
   "execution_count": null,
   "id": "7fcdefd7",
   "metadata": {},
   "outputs": [],
   "source": [
    "basemap"
   ]
  },
  {
   "cell_type": "markdown",
   "id": "ae6b2c33",
   "metadata": {},
   "source": [
    "    We can see a number of hot spots here. Midtown Manhattan is clearly a huge bright spot\n",
    "    & these are made from Midtown to Lower Manhattan followed by Upper Manhattan and the Heights of Brooklyn."
   ]
  },
  {
   "cell_type": "code",
   "execution_count": null,
   "id": "6709d092",
   "metadata": {},
   "outputs": [],
   "source": []
  },
  {
   "cell_type": "markdown",
   "id": "9ab455a4",
   "metadata": {},
   "source": [
    "# 8.. Examine rush on Hour and Weekday ( Perform Pair wise Analysis )"
   ]
  },
  {
   "cell_type": "code",
   "execution_count": null,
   "id": "c4328cc9",
   "metadata": {},
   "outputs": [],
   "source": [
    "final.columns"
   ]
  },
  {
   "cell_type": "code",
   "execution_count": null,
   "id": "31480ae9",
   "metadata": {},
   "outputs": [],
   "source": [
    "final.head(3)"
   ]
  },
  {
   "cell_type": "code",
   "execution_count": null,
   "id": "c8bcaffd",
   "metadata": {},
   "outputs": [],
   "source": [
    "final.dtypes"
   ]
  },
  {
   "cell_type": "code",
   "execution_count": null,
   "id": "971ef81c",
   "metadata": {},
   "outputs": [],
   "source": [
    "final['Date/Time'][0]"
   ]
  },
  {
   "cell_type": "code",
   "execution_count": null,
   "id": "c25864d1",
   "metadata": {},
   "outputs": [],
   "source": [
    "### converting 'Date/Time' feature into date-time..\n",
    "\n",
    "final['Date/Time'] = pd.to_datetime(final['Date/Time'] , format=\"%m/%d/%Y %H:%M:%S\")"
   ]
  },
  {
   "cell_type": "code",
   "execution_count": null,
   "id": "276206fb",
   "metadata": {},
   "outputs": [],
   "source": [
    "final['Date/Time'].dtype"
   ]
  },
  {
   "cell_type": "code",
   "execution_count": null,
   "id": "f9d9d286",
   "metadata": {},
   "outputs": [],
   "source": []
  },
  {
   "cell_type": "code",
   "execution_count": null,
   "id": "1ced316b",
   "metadata": {},
   "outputs": [],
   "source": [
    "### extracting 'weekday' & 'hour' from 'Date/Time' feature..\n",
    "\n",
    "final['day'] = final['Date/Time'].dt.day\n",
    "final['hour'] = final['Date/Time'].dt.hour"
   ]
  },
  {
   "cell_type": "code",
   "execution_count": null,
   "id": "172fa835",
   "metadata": {},
   "outputs": [],
   "source": [
    "final.head(4)"
   ]
  },
  {
   "cell_type": "code",
   "execution_count": null,
   "id": "99cd0f9f",
   "metadata": {},
   "outputs": [],
   "source": []
  },
  {
   "cell_type": "code",
   "execution_count": null,
   "id": "97b40d50",
   "metadata": {},
   "outputs": [],
   "source": []
  },
  {
   "cell_type": "code",
   "execution_count": null,
   "id": "cffc9043",
   "metadata": {},
   "outputs": [],
   "source": [
    "'''\n",
    "Earlier we have learnt how to create pivot table using pd.crosstab() , now let me show u one more way to build\n",
    "pivot_table without pd.crosstab()\n",
    "\n",
    "'''"
   ]
  },
  {
   "cell_type": "code",
   "execution_count": null,
   "id": "9b71cff3",
   "metadata": {},
   "outputs": [],
   "source": [
    "pivot = final.groupby(['day' , 'hour']).size().unstack()"
   ]
  },
  {
   "cell_type": "code",
   "execution_count": null,
   "id": "95729ae4",
   "metadata": {},
   "outputs": [],
   "source": [
    "pivot\n",
    "\n",
    "### pivot table is all about  , we have Rows*columns & having value in each cell !"
   ]
  },
  {
   "cell_type": "code",
   "execution_count": null,
   "id": "d401e4b1",
   "metadata": {},
   "outputs": [],
   "source": []
  },
  {
   "cell_type": "code",
   "execution_count": null,
   "id": "bd936f47",
   "metadata": {},
   "outputs": [],
   "source": [
    "### styling dataframe\n",
    "\n",
    "pivot.style.background_gradient()"
   ]
  },
  {
   "cell_type": "code",
   "execution_count": null,
   "id": "9461adea",
   "metadata": {},
   "outputs": [],
   "source": []
  }
 ],
 "metadata": {
  "kernelspec": {
   "display_name": "Python 3 (ipykernel)",
   "language": "python",
   "name": "python3"
  },
  "language_info": {
   "codemirror_mode": {
    "name": "ipython",
    "version": 3
   },
   "file_extension": ".py",
   "mimetype": "text/x-python",
   "name": "python",
   "nbconvert_exporter": "python",
   "pygments_lexer": "ipython3",
   "version": "3.12.5"
  }
 },
 "nbformat": 4,
 "nbformat_minor": 5
}
